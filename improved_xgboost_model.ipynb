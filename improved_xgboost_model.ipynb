{
 "cells": [
  {
   "cell_type": "code",
   "execution_count": 2,
   "metadata": {},
   "outputs": [
    {
     "name": "stdout",
     "output_type": "stream",
     "text": [
      "Churn percentage: 26.54%\n",
      "Churn percentage train:\t26.54%\n",
      "Churn percentage test:\t26.52%\n",
      "\n",
      "{'gamma': 0, 'learning_rate': 0.05, 'max_depth': 3, 'reg_lambda': 10.0, 'scale_pos_weight': 3}\n"
     ]
    }
   ],
   "source": [
    "import numpy as np\n",
    "import pandas as pd\n",
    "import xgboost as xgb\n",
    "from sklearn.model_selection import train_test_split\n",
    "from sklearn.model_selection import GridSearchCV\n",
    "from sklearn.metrics import balanced_accuracy_score, roc_auc_score, make_scorer\n",
    "from sklearn.metrics import confusion_matrix\n",
    "from sklearn.metrics import plot_confusion_matrix\n",
    "\n",
    "\n",
    "seed = 1337\n",
    "df = pd.read_csv('input/telco_customer_churn.csv')\n",
    "\n",
    "# Drop customerID, since it is not related to customer churn.\n",
    "df.drop(['customerID', ], axis=1, inplace=True) # axis=0 for rows, axis=1 for columns\n",
    "\n",
    "# Remove white space in columns for later plotting of tree.\n",
    "df.replace(' ', '_', regex=True, inplace=True)\n",
    "\n",
    "# Look into the dtype == object columns\n",
    "for col in df.select_dtypes(include='object'):\n",
    "    if len(col) < 7:\n",
    "        tabs = '\\t\\t\\t'\n",
    "    elif len(col) < 15:\n",
    "        tabs = '\\t\\t'\n",
    "    else:\n",
    "        tabs = '\\t'\n",
    "    # print(f'{col}:{tabs}{df[col].unique()}')\n",
    "\n",
    "df.loc[(df['TotalCharges'] == '_'), 'TotalCharges'] = 0.0\n",
    "df['TotalCharges'] = pd.to_numeric(df['TotalCharges'])\n",
    "\n",
    "# Let's convert all 'Yes'/'No' columns to 1/0 instead.\n",
    "cols = ['Partner', 'Dependents', 'PhoneService', 'PaperlessBilling', 'Churn']\n",
    "for col in cols:\n",
    "    df[col] = pd.Series(np.where(df[col].values == 'Yes', 1, 0), df.index)\n",
    "    df[col] = pd.to_numeric(df[col])\n",
    "\n",
    "# Convert Male / Female to 1 / 0 similar to above.\n",
    "df['gender'] = pd.Series(np.where(df['gender'].values == 'Male', 1, 0), df.index)\n",
    "df['gender'] = pd.to_numeric(df['gender'])\n",
    "\n",
    "# Divide the data into independent variables X and dependent variable y (Churn).\n",
    "X = df.drop('Churn', axis=1).copy()\n",
    "y = df['Churn'].copy()\n",
    "\n",
    "# Convert to one-hot encoding as this is suitable for trees.\n",
    "# We see that there are a couple of dtype == object columns that are not binary. These, we will one-hot encode.\n",
    "cols = ['MultipleLines', 'InternetService', 'OnlineSecurity', 'OnlineBackup', 'DeviceProtection', 'TechSupport', 'StreamingTV', 'StreamingMovies', 'Contract', 'PaymentMethod']\n",
    "X_encoded = pd.get_dummies(X, columns=cols)\n",
    "\n",
    "# Check how many Churn == 1 samples there are compared to total.\n",
    "print(f'Churn percentage: {round((sum(y) / len(y) * 100), 2)}%')\n",
    "\n",
    "# Since we only have 26.54% of Churn == 1 samples, we need to use stratification\n",
    "# when splitting out data into a training and a testing dataset. This way, we\n",
    "# ensure that the ratio of 1 / 0 will be the same in the training and test datasets.\n",
    "X_train, X_test, y_train, y_test = train_test_split(X_encoded, y, random_state=seed, stratify=y)\n",
    "\n",
    "print(f'Churn percentage train:\\t{round((sum(y_train) / len(y_train) * 100), 2)}%')\n",
    "print(f'Churn percentage test:\\t{round((sum(y_test) / len(y_test) * 100), 2)}%\\n')\n",
    "\n",
    "# Optimization round 2 yielded (refer to the hyperparameter_optimization notebook):\n",
    "print({'gamma': 0, 'learning_rate': 0.05, 'max_depth': 3, 'reg_lambda': 10.0, 'scale_pos_weight': 3})"
   ]
  },
  {
   "cell_type": "code",
   "execution_count": 14,
   "metadata": {},
   "outputs": [
    {
     "name": "stdout",
     "output_type": "stream",
     "text": [
      "[22:58:47] WARNING: /Users/travis/build/dmlc/xgboost/src/learner.cc:516: \n",
      "Parameters: { learn_rate } might not be used.\n",
      "\n",
      "  This may not be accurate due to some parameters are only used in language bindings but\n",
      "  passed down to XGBoost core.  Or some parameters are not used but slip through this\n",
      "  verification. Please open an issue if you find above cases.\n",
      "\n",
      "\n",
      "[0]\tvalidation_0-aucpr:0.56009\n",
      "Will train until validation_0-aucpr hasn't improved in 10 rounds.\n",
      "[1]\tvalidation_0-aucpr:0.59465\n",
      "[2]\tvalidation_0-aucpr:0.61201\n",
      "[3]\tvalidation_0-aucpr:0.63049\n",
      "[4]\tvalidation_0-aucpr:0.63524\n",
      "[5]\tvalidation_0-aucpr:0.63658\n",
      "[6]\tvalidation_0-aucpr:0.64098\n",
      "[7]\tvalidation_0-aucpr:0.64939\n",
      "[8]\tvalidation_0-aucpr:0.65236\n",
      "[9]\tvalidation_0-aucpr:0.65292\n",
      "[10]\tvalidation_0-aucpr:0.65348\n",
      "[11]\tvalidation_0-aucpr:0.65636\n",
      "[12]\tvalidation_0-aucpr:0.65479\n",
      "[13]\tvalidation_0-aucpr:0.65732\n",
      "[14]\tvalidation_0-aucpr:0.65962\n",
      "[15]\tvalidation_0-aucpr:0.66015\n",
      "[16]\tvalidation_0-aucpr:0.65914\n",
      "[17]\tvalidation_0-aucpr:0.66023\n",
      "[18]\tvalidation_0-aucpr:0.65801\n",
      "[19]\tvalidation_0-aucpr:0.65746\n",
      "[20]\tvalidation_0-aucpr:0.65794\n",
      "[21]\tvalidation_0-aucpr:0.65850\n",
      "[22]\tvalidation_0-aucpr:0.66047\n",
      "[23]\tvalidation_0-aucpr:0.66000\n",
      "[24]\tvalidation_0-aucpr:0.66016\n",
      "[25]\tvalidation_0-aucpr:0.66036\n",
      "[26]\tvalidation_0-aucpr:0.66035\n",
      "[27]\tvalidation_0-aucpr:0.66223\n",
      "[28]\tvalidation_0-aucpr:0.66185\n",
      "[29]\tvalidation_0-aucpr:0.66217\n",
      "[30]\tvalidation_0-aucpr:0.66351\n",
      "[31]\tvalidation_0-aucpr:0.66127\n",
      "[32]\tvalidation_0-aucpr:0.66136\n",
      "[33]\tvalidation_0-aucpr:0.65891\n",
      "[34]\tvalidation_0-aucpr:0.65820\n",
      "[35]\tvalidation_0-aucpr:0.65952\n",
      "[36]\tvalidation_0-aucpr:0.65963\n",
      "[37]\tvalidation_0-aucpr:0.65937\n",
      "[38]\tvalidation_0-aucpr:0.65873\n",
      "[39]\tvalidation_0-aucpr:0.65792\n",
      "[40]\tvalidation_0-aucpr:0.65915\n",
      "Stopping. Best iteration:\n",
      "[30]\tvalidation_0-aucpr:0.66351\n",
      "\n"
     ]
    },
    {
     "data": {
      "text/plain": [
       "XGBClassifier(base_score=0.5, booster='gbtree', colsample_bylevel=1,\n",
       "              colsample_bynode=1, colsample_bytree=0.5, gamma=0, gpu_id=-1,\n",
       "              importance_type='gain', interaction_constraints='',\n",
       "              learn_rate=0.05, learning_rate=0.300000012, max_delta_step=0,\n",
       "              max_depth=3, min_child_weight=1, missing=None,\n",
       "              monotone_constraints='()', n_estimators=100, n_jobs=0,\n",
       "              num_parallel_tree=1, random_state=1337, reg_alpha=0,\n",
       "              reg_lambda=10, scale_pos_weight=3, seed=1337, subsample=0.9,\n",
       "              tree_method='exact', validate_parameters=1, verbosity=None)"
      ]
     },
     "execution_count": 14,
     "metadata": {},
     "output_type": "execute_result"
    }
   ],
   "source": [
    "clf_xgb = xgb.XGBClassifier(objective='binary:logistic',\n",
    "                            missing=None,\n",
    "                            seed=seed,\n",
    "                            gamma=0,\n",
    "                            learn_rate=0.05,\n",
    "                            max_depth=3,\n",
    "                            reg_lambda=10,\n",
    "                            scale_pos_weight=3,\n",
    "                            subsample=0.9,\n",
    "                            colsample_bytree=0.5)\n",
    "\n",
    "clf_xgb.fit(X_train,\n",
    "            y_train,\n",
    "            verbose=True,\n",
    "            early_stopping_rounds=10,\n",
    "            eval_metric='aucpr',\n",
    "            eval_set=[(X_test, y_test)])"
   ]
  },
  {
   "cell_type": "code",
   "execution_count": 15,
   "metadata": {},
   "outputs": [
    {
     "data": {
      "text/plain": [
       "<sklearn.metrics._plot.confusion_matrix.ConfusionMatrixDisplay at 0x125616f70>"
      ]
     },
     "execution_count": 15,
     "metadata": {},
     "output_type": "execute_result"
    },
    {
     "data": {
      "image/png": "[encoded data removed]",
      "text/plain": [
       "<Figure size 432x288 with 2 Axes>"
      ]
     },
     "metadata": {
      "needs_background": "light"
     },
     "output_type": "display_data"
    }
   ],
   "source": [
    "plot_confusion_matrix(clf_xgb,\n",
    "                      X_test,\n",
    "                      y_test,\n",
    "                      values_format='d',\n",
    "                      display_labels=[\"Did not leave\", \"Left\"])"
   ]
  },
  {
   "cell_type": "code",
   "execution_count": null,
   "metadata": {},
   "outputs": [],
   "source": []
  },
  {
   "cell_type": "markdown",
   "metadata": {},
   "source": [
    "Before optimization:\n",
    "- 1187 of those who did not leave were correctly classified (83.47%).\n",
    "- 107 of those who did not leave were incorrectly classified (31.56%).\n",
    "- 235 of those who did leave were incorrectly classified (16.53%).\n",
    "- 232 of those who did leave were correctly classified (68.44%).\n",
    "\n",
    "After optimization:\n",
    "- 943 of those who did not leave were correctly classified (72.87%).\n",
    "- 351 of those who did not leave were incorrectly classified (27.13%).\n",
    "- 89 of those who did leave were incorrectly classified (19.06%).\n",
    "- 378 of those who did leave were correctly classified (80.94%).\n",
    "\n",
    "In conclusion, one can see that we were able to improve the XGBoost model through hyperparameter optimization. Since predicting which customers will leave is much more important from a business perspective than predicting which ones will stay, this is a clear improvement.\n"
   ]
  }
 ],
 "metadata": {
  "kernelspec": {
   "display_name": "Python 3",
   "language": "python",
   "name": "python3"
  },
  "language_info": {
   "codemirror_mode": {
    "name": "ipython",
    "version": 3
   },
   "file_extension": ".py",
   "mimetype": "text/x-python",
   "name": "python",
   "nbconvert_exporter": "python",
   "pygments_lexer": "ipython3",
   "version": "3.8.4"
  }
 },
 "nbformat": 4,
 "nbformat_minor": 4
}
